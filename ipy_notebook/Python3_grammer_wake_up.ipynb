{
 "cells": [
  {
   "cell_type": "markdown",
   "metadata": {},
   "source": [
    "# 运算符"
   ]
  },
  {
   "cell_type": "markdown",
   "metadata": {},
   "source": [
    "- `+=`\t加法赋值运算符\tc += a 等效于 c = c + a  (其余的同理)\n",
    "\n",
    "- `%`\t取模 - 返回除法的余数\n",
    "- `**`\t幂 - 返回x的y次幂\n",
    "- `//`\t取整除 - 向下取接近除数的整数"
   ]
  },
  {
   "cell_type": "code",
   "execution_count": 1,
   "metadata": {},
   "outputs": [
    {
     "name": "stdout",
     "output_type": "stream",
     "text": [
      "1\n",
      "16\n",
      "4\n"
     ]
    }
   ],
   "source": [
    "print(21 % 10)\n",
    "print(2 ** 4)\n",
    "print(9 // 2)"
   ]
  },
  {
   "cell_type": "markdown",
   "metadata": {},
   "source": [
    "按位运算符是把数字看作二进制来进行计算。\n",
    "\n",
    "- `&`   按位与运算符：参与运算的两个值,如果两个相应位都为1,则该位的结果为1,否则为0。\n",
    "- `|`   按位或运算符：只要对应的二个二进位有一个为1时，结果位就为1。\n",
    "- `^`\t按位异或运算符：当两对应的二进位相异时，结果为1。\n",
    "- `~`\t按位取反运算符：对数据的每个二进制位取反,即把1变为0,把0变为1。\n",
    "- `<<`\t左移动运算符：运算数的各二进位全部左移若干位，由\"<<\"右边的数指定移动的位数，高位丢弃，低位补0。\n",
    "- `>>`\t右移动运算符：把\">>\"左边的运算数的各二进位全部右移若干位，\">>\"右边的数指定移动的位数。"
   ]
  },
  {
   "cell_type": "code",
   "execution_count": null,
   "metadata": {},
   "outputs": [],
   "source": [
    "a = 60            # 60 = 0011 1100 \n",
    "b = 13            # 13 = 0000 1101 \n",
    "print(a & b)      # 12 = 0000 1100\n",
    "print(a | b)      # 61 = 0011 1101\n",
    "print(a ^ b)      # 49 = 0011 0001\n",
    "print(~a)         # -61 = 1100 0011\n",
    "print(a << 2)     # 240 = 1111 0000\n",
    "print(a >> 2)     # 15 = 0000 1111"
   ]
  },
  {
   "cell_type": "markdown",
   "metadata": {},
   "source": [
    "- `and`  布尔\"与\" - 如果 x 为 False，x and y 返回 False，否则它返回 y 的计算值。\n",
    "- `or`\t 布尔\"或\" - 如果 x 是 True，它返回 x 的值，否则它返回 y 的计算值。\n",
    "- `not`\t 布尔\"非\" - 如果 x 为 True，返回 False 。如果 x 为 False，它返回 True。\n",
    "\n",
    "- `in`   如果在指定的序列中找到值返回 True，否则返回 False。\n",
    "- `not in`\t如果在指定的序列中没有找到值返回 True，否则返回 False。"
   ]
  },
  {
   "cell_type": "code",
   "execution_count": 2,
   "metadata": {},
   "outputs": [
    {
     "name": "stdout",
     "output_type": "stream",
     "text": [
      "变量 a 不在给定的列表中 list 中\n"
     ]
    }
   ],
   "source": [
    "a = 10\n",
    "b = 20\n",
    "list = [1, 2, 3, 4, 5 ];\n",
    " \n",
    "if ( a in list ):\n",
    "   print (\"变量 a 在给定的列表中 list 中\")\n",
    "else:\n",
    "   print (\"变量 a 不在给定的列表中 list 中\")"
   ]
  },
  {
   "cell_type": "markdown",
   "metadata": {},
   "source": [
    "# 标准数据类型\n",
    "## Number（数字）\n",
    "\n",
    "- `int(x)` 将x转换为一个整数。\n",
    "\n",
    "- `float(x)` 将x转换到一个浮点数。\n",
    "\n",
    "- `complex(x)` 将x转换到一个复数，实数部分为 x，虚数部分为 0。\n",
    "\n",
    "- `complex(x, y)` 将 x 和 y 转换到一个复数，实数部分为 x，虚数部分为 y。x 和 y 是数字表达式。"
   ]
  },
  {
   "cell_type": "code",
   "execution_count": 3,
   "metadata": {},
   "outputs": [
    {
     "name": "stdout",
     "output_type": "stream",
     "text": [
      "<class 'str'>\n",
      "<class 'int'>\n"
     ]
    }
   ],
   "source": [
    "x = '12'\n",
    "print(type(x))\n",
    "print(type(int(x)))"
   ]
  },
  {
   "cell_type": "markdown",
   "metadata": {},
   "source": [
    "## String（字符串）"
   ]
  },
  {
   "cell_type": "markdown",
   "metadata": {},
   "source": [
    "- 反斜杠可以用来转义，使用`r`可以让反斜杠不发生转义。\n",
    "- 字符串的截取的语法：`变量[头下标:尾下标:步长]`，遵循左闭右开原则，`str[0,2]`是不包含第 3 个字符的。\n",
    "- `%`\t 格式字符串。或者使用format函数\n",
    "- `+`\t 字符串连接。\n",
    "- `*`\t 重复输出字符串。\n",
    "- `\"\"\"`  三引号允许一个字符串跨多行，字符串中可以包含换行符、制表符以及其他特殊字符。\n",
    "- f-string 格式话字符串以 `f` 开头，后面跟着字符串，字符串中的表达式用大括号 `{}` 包起来，它会将变量或表达式计算后的值替换进去"
   ]
  },
  {
   "cell_type": "code",
   "execution_count": 4,
   "metadata": {},
   "outputs": [
    {
     "name": "stdout",
     "output_type": "stream",
     "text": [
      "this is a line with \n",
      "\n",
      "this is a line with \\n\n",
      "Hello\n",
      "HloWrd\n",
      "我叫 小明 今年 10 岁!\n",
      "我叫：小明, 今年 12 岁! \n",
      "网站名：菜鸟教程, 地址 www.runoob.com\n",
      "网站名：菜鸟教程, 地址 www.runoob.com\n",
      "Hello World!Hello World!\n",
      "Hello World!Du\n",
      "多行字符串可以使用制表符\n",
      "TAB ( \t )。\n",
      "也可以使用换行符 [ \n",
      " ]。\n",
      "\n",
      "Hello World\n",
      "3\n",
      "Hi: World\n"
     ]
    }
   ],
   "source": [
    "print(\"this is a line with \\n\")\n",
    "print(r\"this is a line with \\n\")\n",
    "\n",
    "x = 'Hello World!'\n",
    "print(x[0:5])\n",
    "print(x[0:12:2])\n",
    "\n",
    "print (\"我叫 %s 今年 %d 岁!\" % ('小明', 10))\n",
    "print(\"我叫：{name}, 今年 {age} 岁! \".format(name=\"小明\", age=12))\n",
    "\n",
    "# 通过字典设置参数\n",
    "site = {\"name\": \"菜鸟教程\", \"url\": \"www.runoob.com\"}\n",
    "print(\"网站名：{name}, 地址 {url}\".format(**site))\n",
    " \n",
    "# 通过列表索引设置参数\n",
    "my_list = ['菜鸟教程', 'www.runoob.com']\n",
    "print(\"网站名：{0[0]}, 地址 {0[1]}\".format(my_list))  # \"0\" 是必须的\n",
    "\n",
    "print(x * 2)\n",
    "print(x + 'Du')\n",
    "\n",
    "para_str = \"\"\"多行字符串可以使用制表符\n",
    "TAB ( \\t )。\n",
    "也可以使用换行符 [ \\n ]。\n",
    "\"\"\"\n",
    "print(para_str)\n",
    "\n",
    "name = 'World'\n",
    "print(f'Hello {name}')\n",
    "print(f'{1+2}')\n",
    "w = {'first': 'Hi', 'second': 'World'}\n",
    "print(f'{w[\"first\"]}: {w[\"second\"]}')"
   ]
  },
  {
   "cell_type": "markdown",
   "metadata": {},
   "source": [
    "## List（列表）"
   ]
  },
  {
   "cell_type": "code",
   "execution_count": 5,
   "metadata": {},
   "outputs": [
    {
     "name": "stdout",
     "output_type": "stream",
     "text": [
      "list1[0]:  Google\n",
      "list2[1:5]:  [2, 3, 4, 5]\n",
      "list3:  {'value': '1'}\n",
      "list3:  1\n"
     ]
    }
   ],
   "source": [
    "list1 = ['Google', 'Runoob', 1997, 2000];\n",
    "list2 = [1, 2, 3, 4, 5, 6, 7 ];\n",
    "list3 = [{ 'value': '1'}, 2, 3, 4, 5, 6, 7 ];\n",
    "\n",
    "print (\"list1[0]: \", list1[0])\n",
    "print (\"list2[1:5]: \", list2[1:5])\n",
    "print (\"list3: \", list3[0])\n",
    "print (\"list3: \", list3[0]['value'])\n",
    "del list[2]"
   ]
  },
  {
   "cell_type": "markdown",
   "metadata": {},
   "source": [
    "## Tuple（元组）"
   ]
  },
  {
   "cell_type": "markdown",
   "metadata": {},
   "source": [
    "元组（tuple）与列表类似，不同之处在于元组的元素不能修改。元组写在小括号 () 里，元素之间用逗号隔开。\n",
    "\n",
    "虽然元组的元素不可改变，但它可以包含可变的对象，比如list列表。\n",
    "\n",
    "元组中的元素类型也可以不相同，元组中的元素值是不允许删除的，但我们可以使用del语句来删除整个元组。"
   ]
  },
  {
   "cell_type": "code",
   "execution_count": 6,
   "metadata": {},
   "outputs": [
    {
     "name": "stdout",
     "output_type": "stream",
     "text": [
      "('a', 'b', 'c', 'd')\n",
      "(('a', 'b', 'c', 'd'), (1, 2, 3, 4, 5))\n",
      "('a', 'b', 'c', 'd', 1, 2, 3, 4, 5)\n",
      "<class 'tuple'>\n",
      "3\n"
     ]
    }
   ],
   "source": [
    "tuple = ( 'abcd', 786 , 2.23, 'runoob', 70.2 )\n",
    "tup3 = \"a\", \"b\", \"c\", \"d\";   #  不需要括号也可以\n",
    "tup4 = tup3, (1, 2, 3, 4, 5)\n",
    "tup5 = tup3 + (1, 2, 3, 4, 5)\n",
    "print(tup3)\n",
    "print(tup4)\n",
    "print(tup5)\n",
    "\n",
    "del tuple\n",
    "print(tuple)\n",
    "\n",
    "print(len((1, 2, 3)))\n",
    "\n",
    "# 构造包含 0 个或 1 个元素的元组比较特殊，所以有一些额外的语法规则：\n",
    "tup1 = ()    # 空元组\n",
    "tup2 = (20,) # 一个元素，需要在元素后添加逗号"
   ]
  },
  {
   "cell_type": "markdown",
   "metadata": {},
   "source": [
    "## Dictionary（字典）"
   ]
  },
  {
   "cell_type": "raw",
   "metadata": {},
   "source": [
    "列表是有序的对象集合，字典是无序的对象集合。两者之间的区别在于：字典当中的元素是通过键来存取的，而不是通过偏移存取。\n",
    "\n",
    "字典是一种映射类型，字典用 `{ }` 标识，它是一个无序的 `键(key) : 值(value)`的集合。\n",
    "键(key)必须使用不可变类型。\n",
    "在同一个字典中，键(key)必须是唯一的。\n",
    "\n",
    "能删单一的元素也能清空字典，清空只需一项操作。"
   ]
  },
  {
   "cell_type": "code",
   "execution_count": 7,
   "metadata": {},
   "outputs": [
    {
     "name": "stdout",
     "output_type": "stream",
     "text": [
      "dict['one']: Hello\n",
      "dict[2]: World\n",
      "{'name': 'this_is_name', 'code': 1, 'site': 'this_is_site'}\n",
      "dict_keys(['name', 'code', 'site'])\n",
      "dict_values(['this_is_name', 1, 'this_is_site'])\n",
      "{'Age': 7, 'Class': 'First'}\n",
      "{}\n"
     ]
    },
    {
     "ename": "NameError",
     "evalue": "name 'dict_for_del' is not defined",
     "output_type": "error",
     "traceback": [
      "\u001b[0;31m---------------------------------------------------------------------------\u001b[0m",
      "\u001b[0;31mNameError\u001b[0m                                 Traceback (most recent call last)",
      "\u001b[0;32m<ipython-input-7-379fc5912f42>\u001b[0m in \u001b[0;36m<module>\u001b[0;34m\u001b[0m\n\u001b[1;32m     25\u001b[0m \u001b[0;34m\u001b[0m\u001b[0m\n\u001b[1;32m     26\u001b[0m \u001b[0;32mdel\u001b[0m \u001b[0mdict_for_del\u001b[0m         \u001b[0;31m# 删除字典\u001b[0m\u001b[0;34m\u001b[0m\u001b[0;34m\u001b[0m\u001b[0m\n\u001b[0;32m---> 27\u001b[0;31m \u001b[0mprint\u001b[0m\u001b[0;34m(\u001b[0m\u001b[0mdict_for_del\u001b[0m\u001b[0;34m)\u001b[0m\u001b[0;34m\u001b[0m\u001b[0;34m\u001b[0m\u001b[0m\n\u001b[0m",
      "\u001b[0;31mNameError\u001b[0m: name 'dict_for_del' is not defined"
     ]
    }
   ],
   "source": [
    "dict = {}\n",
    "dict['one'] = \"Hello\"\n",
    "dict[2]     = \"World\"\n",
    " \n",
    "tinydict = {\n",
    "'name': 'this_is_name',\n",
    "'code':1, \n",
    "'site': 'this_is_site'\n",
    "}\n",
    " \n",
    "print (\"dict['one']:\", dict['one'])       # 输出键为 'one' 的值\n",
    "print (\"dict[2]:\", dict[2])           # 输出键为 2 的值\n",
    "print (tinydict)          # 输出完整的字典\n",
    "print (tinydict.keys())   # 输出所有键\n",
    "print (tinydict.values()) # 输出所有值\n",
    "\n",
    "\n",
    "dict_for_del = {'Name': 'Runoob', 'Age': 7, 'Class': 'First'}\n",
    " \n",
    "del dict_for_del['Name'] # 删除键 'Name'\n",
    "print(dict_for_del)\n",
    "\n",
    "dict_for_del.clear()     # 清空字典\n",
    "print(dict_for_del)\n",
    "\n",
    "del dict_for_del         # 删除字典\n",
    "print(dict_for_del)"
   ]
  },
  {
   "cell_type": "markdown",
   "metadata": {},
   "source": [
    "构造函数 `dict()` 可以直接从键值对序列中构建字典如下："
   ]
  },
  {
   "cell_type": "code",
   "execution_count": 8,
   "metadata": {},
   "outputs": [
    {
     "ename": "TypeError",
     "evalue": "'dict' object is not callable",
     "output_type": "error",
     "traceback": [
      "\u001b[0;31m---------------------------------------------------------------------------\u001b[0m",
      "\u001b[0;31mTypeError\u001b[0m                                 Traceback (most recent call last)",
      "\u001b[0;32m<ipython-input-8-22d72b12d7b1>\u001b[0m in \u001b[0;36m<module>\u001b[0;34m\u001b[0m\n\u001b[0;32m----> 1\u001b[0;31m \u001b[0mprint\u001b[0m\u001b[0;34m(\u001b[0m\u001b[0mdict\u001b[0m\u001b[0;34m(\u001b[0m\u001b[0;34m[\u001b[0m\u001b[0;34m(\u001b[0m\u001b[0;34m'Runoob'\u001b[0m\u001b[0;34m,\u001b[0m \u001b[0;36m1\u001b[0m\u001b[0;34m)\u001b[0m\u001b[0;34m,\u001b[0m \u001b[0;34m(\u001b[0m\u001b[0;34m'Google'\u001b[0m\u001b[0;34m,\u001b[0m \u001b[0;36m2\u001b[0m\u001b[0;34m)\u001b[0m\u001b[0;34m,\u001b[0m \u001b[0;34m(\u001b[0m\u001b[0;34m'Taobao'\u001b[0m\u001b[0;34m,\u001b[0m \u001b[0;36m3\u001b[0m\u001b[0;34m)\u001b[0m\u001b[0;34m]\u001b[0m\u001b[0;34m)\u001b[0m\u001b[0;34m)\u001b[0m\u001b[0;34m\u001b[0m\u001b[0;34m\u001b[0m\u001b[0m\n\u001b[0m\u001b[1;32m      2\u001b[0m \u001b[0mprint\u001b[0m\u001b[0;34m(\u001b[0m\u001b[0mdict\u001b[0m\u001b[0;34m(\u001b[0m\u001b[0mRunoob\u001b[0m\u001b[0;34m=\u001b[0m\u001b[0;36m1\u001b[0m\u001b[0;34m,\u001b[0m \u001b[0mGoogle\u001b[0m\u001b[0;34m=\u001b[0m\u001b[0;36m2\u001b[0m\u001b[0;34m,\u001b[0m \u001b[0mTaobao\u001b[0m\u001b[0;34m=\u001b[0m\u001b[0;36m3\u001b[0m\u001b[0;34m)\u001b[0m\u001b[0;34m)\u001b[0m\u001b[0;34m\u001b[0m\u001b[0;34m\u001b[0m\u001b[0m\n",
      "\u001b[0;31mTypeError\u001b[0m: 'dict' object is not callable"
     ]
    }
   ],
   "source": [
    "print(dict([('Runoob', 1), ('Google', 2), ('Taobao', 3)]))\n",
    "print(dict(Runoob=1, Google=2, Taobao=3))"
   ]
  },
  {
   "cell_type": "markdown",
   "metadata": {},
   "source": [
    "使用推导式（字典推导）"
   ]
  },
  {
   "cell_type": "code",
   "execution_count": 9,
   "metadata": {},
   "outputs": [
    {
     "name": "stdout",
     "output_type": "stream",
     "text": [
      "{2: 4, 4: 16, 6: 36}\n"
     ]
    }
   ],
   "source": [
    "print({x: x**2 for x in (2, 4, 6)})"
   ]
  },
  {
   "cell_type": "markdown",
   "metadata": {},
   "source": [
    "## Set（集合）"
   ]
  },
  {
   "cell_type": "markdown",
   "metadata": {},
   "source": [
    "集合（set）是由一个或数个形态各异的大小整体组成的，构成集合的事物或对象称作元素或是成员。基本功能是进行成员关系测试和删除重复元素。\n",
    "\n",
    "可以使用大括号 `{ }` 或者 `set()` 函数创建集合。\n",
    "\n",
    "创建一个空集合必须用 `set()` 而不是 `{ }`，因为 `{ }` 是用来创建一个空字典。"
   ]
  },
  {
   "cell_type": "code",
   "execution_count": null,
   "metadata": {},
   "outputs": [],
   "source": [
    "student = {'Tom', 'Jim', 'Mary', 'Tom', 'Jack', 'Rose'}\n",
    "print(student)   # 输出集合，重复的元素被自动去掉\n",
    "\n",
    "# 成员测试\n",
    "if 'Rose' in student :\n",
    "    print('Rose 在集合中')\n",
    "else :\n",
    "    print('Rose 不在集合中')"
   ]
  },
  {
   "cell_type": "code",
   "execution_count": 10,
   "metadata": {},
   "outputs": [
    {
     "name": "stdout",
     "output_type": "stream",
     "text": [
      "{'c', 'd', 'a', 'r', 'b'}\n",
      "{'d', 'r', 'b'}\n",
      "{'c', 'm', 'd', 'a', 'z', 'l', 'r', 'b'}\n",
      "{'c', 'a'}\n",
      "{'l', 'z', 'm', 'd', 'r', 'b'}\n",
      "comprehension: {'d', 'r'}\n"
     ]
    }
   ],
   "source": [
    "# set可以进行集合运算\n",
    "a = set('abracadabra')\n",
    "b = set('alacazam')\n",
    " \n",
    "print(a)         # 去重输出，顺序是随机的\n",
    "print(a - b)     # a 和 b 的差集\n",
    "print(a | b)     # a 和 b 的并集\n",
    "print(a & b)     # a 和 b 的交集\n",
    "print(a ^ b)     # a 和 b 中不同时存在的元素\n",
    "\n",
    "# 支持集合推导式(Set comprehension)\n",
    "a = {x for x in 'abracadabra' if x not in 'abc'}\n",
    "print('comprehension:', a)"
   ]
  },
  {
   "cell_type": "code",
   "execution_count": null,
   "metadata": {},
   "outputs": [],
   "source": [
    "thisset = set((\"Google\", \"Runoob\", \"Taobao\"))\n",
    "thisset.add(\"Facebook\")\n",
    "print(thisset)\n",
    "\n",
    "# 还有一个方法，也可以添加元素，且参数可以是列表，元组，字典等\n",
    "thisset.update({1,3})\n",
    "print(thisset)\n",
    "\n",
    "# 移除元素\n",
    "thisset.remove(\"Taobao\")\n",
    "print(thisset)\n",
    "\n",
    "thisset.discard(\"Facebook\")  # 不存在不会发生错误\n",
    "\n",
    "# 清空\n",
    "thisset.clear()"
   ]
  },
  {
   "cell_type": "markdown",
   "metadata": {},
   "source": [
    "# 循环\n",
    "## while 循环"
   ]
  },
  {
   "cell_type": "code",
   "execution_count": null,
   "metadata": {},
   "outputs": [],
   "source": [
    "sum = 0\n",
    "counter = 1\n",
    "n = 3\n",
    "while counter <= n:\n",
    "    sum = sum + counter\n",
    "    counter += 1\n",
    "else:\n",
    "    print (counter, \"次数已到\")\n",
    "print(sum)"
   ]
  },
  {
   "cell_type": "markdown",
   "metadata": {},
   "source": [
    "## for循环"
   ]
  },
  {
   "cell_type": "code",
   "execution_count": null,
   "metadata": {},
   "outputs": [],
   "source": [
    "languages = [\"C\", \"C++\", \"Perl\", \"Python\"] \n",
    "for x in languages:\n",
    "    print (x)"
   ]
  },
  {
   "cell_type": "code",
   "execution_count": null,
   "metadata": {},
   "outputs": [],
   "source": [
    "# 在字典中遍历时，关键字和对应的值可以使用 `items()` 方法同时解读出来：\n",
    "\n",
    "knights = {'gallahad': 'the pure', 'robin': 'the brave'}\n",
    "for key, value in knights.items():\n",
    "    print(key, value)"
   ]
  },
  {
   "cell_type": "code",
   "execution_count": null,
   "metadata": {},
   "outputs": [],
   "source": [
    "# 在序列中遍历时，索引位置和对应值可以使用 `enumerate()` 函数同时得到：\n",
    "\n",
    "for i, v in enumerate(['tic', 'tac', 'toe']):\n",
    "    print(i, v)"
   ]
  },
  {
   "cell_type": "code",
   "execution_count": null,
   "metadata": {},
   "outputs": [],
   "source": [
    "# 同时遍历两个或更多的序列，可以使用 `zip()` 组合\n",
    "\n",
    "questions = ['name', 'quest', 'favorite color']\n",
    "answers = ['lancelot', 'the holy grail', 'blue']\n",
    "for q, a in zip(questions, answers):\n",
    "    print('What is your {0}?  It is {1}.'.format(q, a))"
   ]
  },
  {
   "cell_type": "code",
   "execution_count": null,
   "metadata": {},
   "outputs": [],
   "source": [
    "# 要反向遍历一个序列，首先指定这个序列，然后调用 `reversed()` 函数：\n",
    "\n",
    "for i in reversed(range(1, 10, 2)):\n",
    "    # range(1, 10, 2) 步长为2\n",
    "    print(i)"
   ]
  },
  {
   "cell_type": "code",
   "execution_count": null,
   "metadata": {},
   "outputs": [],
   "source": [
    "# 要按顺序遍历一个序列，使用 `sorted()` 函数返回一个已排序的序列，并不修改原值：\n",
    "\n",
    "basket = ['apple', 'orange', 'apple', 'pear', 'orange', 'banana']\n",
    "for f in sorted(set(basket)):\n",
    "    print(f)"
   ]
  },
  {
   "cell_type": "markdown",
   "metadata": {},
   "source": [
    "## range()循环\n",
    "\n",
    "如果你需要遍历数字序列，可以使用内置range()函数。它会生成数列"
   ]
  },
  {
   "cell_type": "code",
   "execution_count": 73,
   "metadata": {},
   "outputs": [
    {
     "name": "stdout",
     "output_type": "stream",
     "text": [
      "0\n",
      "1\n",
      "2\n",
      "3\n",
      "4\n"
     ]
    }
   ],
   "source": [
    "for i in range(5):\n",
    "    print(i)"
   ]
  },
  {
   "cell_type": "code",
   "execution_count": null,
   "metadata": {},
   "outputs": [],
   "source": [
    "for i in range(5, 9) :\n",
    "    print(i)"
   ]
  },
  {
   "cell_type": "code",
   "execution_count": null,
   "metadata": {},
   "outputs": [],
   "source": [
    "for i in range(0, 10, 3) :\n",
    "    print(i)"
   ]
  },
  {
   "cell_type": "code",
   "execution_count": null,
   "metadata": {},
   "outputs": [],
   "source": [
    "# 使用range()函数来创建一个列表\n",
    "\n",
    "list(range(5))"
   ]
  },
  {
   "cell_type": "markdown",
   "metadata": {},
   "source": [
    "## pass 语句\n",
    "Python pass是空语句，是为了保持程序结构的完整性。\n",
    "\n",
    "pass 不做任何事情，一般用做占位语句。"
   ]
  },
  {
   "cell_type": "code",
   "execution_count": null,
   "metadata": {},
   "outputs": [],
   "source": [
    "for letter in 'Niro': \n",
    "    if letter == 'o':\n",
    "        pass\n",
    "        print ('执行 pass 块')\n",
    "    print ('当前字母 :', letter)"
   ]
  },
  {
   "cell_type": "markdown",
   "metadata": {},
   "source": [
    "# 函数"
   ]
  },
  {
   "cell_type": "code",
   "execution_count": 28,
   "metadata": {},
   "outputs": [
    {
     "name": "stdout",
     "output_type": "stream",
     "text": [
      "名字:  runoob\n",
      "年龄:  35\n"
     ]
    }
   ],
   "source": [
    "def printinfo(name, age = 35):\n",
    "   print (\"名字: \", name)\n",
    "   print (\"年龄: \", age)\n",
    "   return\n",
    " \n",
    "printinfo(name=\"runoob\")"
   ]
  },
  {
   "cell_type": "markdown",
   "metadata": {},
   "source": [
    "你可能需要一个函数能处理比当初声明时更多的参数。这些参数叫做不定长参数。\n",
    "\n",
    "加了星号 `*` 的参数会以元组(tuple)的形式导入，存放所有未命名的变量参数。\n",
    "\n",
    "加了两个星号 `**` 的参数会以字典的形式导入。"
   ]
  },
  {
   "cell_type": "code",
   "execution_count": 31,
   "metadata": {},
   "outputs": [
    {
     "name": "stdout",
     "output_type": "stream",
     "text": [
      "70\n",
      "50\n",
      "(60, 50)\n"
     ]
    }
   ],
   "source": [
    "def printinfo( arg1, *vartuple ):\n",
    "    print(arg1)\n",
    "    print(vartuple[0])\n",
    "    print(vartuple)\n",
    " \n",
    "printinfo( 70, 60, 50 )"
   ]
  },
  {
   "cell_type": "code",
   "execution_count": 104,
   "metadata": {},
   "outputs": [
    {
     "name": "stdout",
     "output_type": "stream",
     "text": [
      "1\n",
      "{'a': 2, 'b': 3}\n"
     ]
    }
   ],
   "source": [
    "def printinfo( arg1, **vardict ):\n",
    "    print(arg1)\n",
    "    print(vardict)\n",
    " \n",
    "printinfo(1, a=2,b=3)"
   ]
  },
  {
   "cell_type": "markdown",
   "metadata": {},
   "source": [
    "使用 `lambda` 来创建匿名函数。\n",
    "所谓匿名，意即不再使用 `def` 语句这样标准的形式定义一个函数。\n",
    "lambda 只是一个表达式，函数体比 def 简单很多。\n",
    "lambda的主体是一个表达式，而不是一个代码块。仅仅能在lambda表达式中封装有限的逻辑进去。\n",
    "lambda 函数拥有自己的命名空间，且不能访问自己参数列表之外或全局命名空间里的参数。\n",
    "虽然lambda函数看起来只能写一行，却不等同于C或C++的内联函数，后者的目的是调用小函数时不占用栈内存从而增加运行效率。"
   ]
  },
  {
   "cell_type": "code",
   "execution_count": null,
   "metadata": {},
   "outputs": [],
   "source": [
    "# 可写函数说明\n",
    "sum = lambda arg1, arg2: arg1 + arg2\n",
    " \n",
    "# 调用sum函数\n",
    "print(sum( 10, 20 )) # 30\n",
    "print(sum( 20, 20 )) # 40"
   ]
  },
  {
   "cell_type": "markdown",
   "metadata": {},
   "source": [
    "# 类\n",
    "\n",
    "类有一个名为 __init__() 的特殊方法（构造方法），该方法在类实例化时会自动调用"
   ]
  },
  {
   "cell_type": "code",
   "execution_count": 50,
   "metadata": {},
   "outputs": [
    {
     "name": "stdout",
     "output_type": "stream",
     "text": [
      "3.0 -4.5\n"
     ]
    }
   ],
   "source": [
    "# self 不是 python 关键字，换成 xxx 也是可以正常执行的\n",
    "class Complex:\n",
    "    def __init__(self, realpart, imagpart):\n",
    "        self.r = realpart\n",
    "        self.i = imagpart\n",
    "\n",
    "\n",
    "x = Complex(3.0, -4.5)\n",
    "print(x.r, x.i)  # 输出结果：3.0 -4.5"
   ]
  },
  {
   "cell_type": "code",
   "execution_count": 55,
   "metadata": {},
   "outputs": [
    {
     "name": "stdout",
     "output_type": "stream",
     "text": [
      "Oops 说: 我 10 岁。\n"
     ]
    },
    {
     "ename": "AttributeError",
     "evalue": "'People' object has no attribute '__weight'",
     "output_type": "error",
     "traceback": [
      "\u001b[0;31m---------------------------------------------------------------------------\u001b[0m",
      "\u001b[0;31mAttributeError\u001b[0m                            Traceback (most recent call last)",
      "\u001b[0;32m<ipython-input-55-35201c79c380>\u001b[0m in \u001b[0;36m<module>\u001b[0;34m\u001b[0m\n\u001b[1;32m     18\u001b[0m \u001b[0mp\u001b[0m \u001b[0;34m=\u001b[0m \u001b[0mPeople\u001b[0m\u001b[0;34m(\u001b[0m\u001b[0;34m'Oops'\u001b[0m\u001b[0;34m,\u001b[0m \u001b[0;36m10\u001b[0m\u001b[0;34m,\u001b[0m \u001b[0;36m30\u001b[0m\u001b[0;34m)\u001b[0m\u001b[0;34m\u001b[0m\u001b[0;34m\u001b[0m\u001b[0m\n\u001b[1;32m     19\u001b[0m \u001b[0mp\u001b[0m\u001b[0;34m.\u001b[0m\u001b[0mspeak\u001b[0m\u001b[0;34m(\u001b[0m\u001b[0;34m)\u001b[0m\u001b[0;34m\u001b[0m\u001b[0;34m\u001b[0m\u001b[0m\n\u001b[0;32m---> 20\u001b[0;31m \u001b[0mprint\u001b[0m\u001b[0;34m(\u001b[0m\u001b[0mp\u001b[0m\u001b[0;34m.\u001b[0m\u001b[0m__weight\u001b[0m\u001b[0;34m)\u001b[0m\u001b[0;34m\u001b[0m\u001b[0;34m\u001b[0m\u001b[0m\n\u001b[0m",
      "\u001b[0;31mAttributeError\u001b[0m: 'People' object has no attribute '__weight'"
     ]
    }
   ],
   "source": [
    "# 在类的内部，使用 def 关键字来定义一个方法，与一般函数定义不同，类方法必须包含参数 self, 且为第一个参数，self 代表的是类的实例。\n",
    "class People:\n",
    "    # 定义基本属性\n",
    "    name = ''\n",
    "    age = 0\n",
    "    # 定义私有属性,私有属性在类外部无法直接进行访问\n",
    "    __weight = 0\n",
    "\n",
    "    # 定义构造方法\n",
    "    def __init__(self, name, age, weight):\n",
    "        self.name = name\n",
    "        self.age = age\n",
    "        self.__weight = weight\n",
    "\n",
    "    def speak(self):\n",
    "        print(\"%s 说: 我 %d 岁。\" % (self.name, self.age))\n",
    "        \n",
    "p = People('Oops', 10, 30)\n",
    "p.speak()\n",
    "print(p.__weight)"
   ]
  },
  {
   "cell_type": "code",
   "execution_count": 58,
   "metadata": {},
   "outputs": [
    {
     "name": "stdout",
     "output_type": "stream",
     "text": [
      "1\n",
      "2\n",
      "2\n"
     ]
    }
   ],
   "source": [
    "# BaseClassName（示例中的基类名）必须与派生类定义在一个作用域内。除了类，还可以用表达式，基类定义在另一个模块中时这一点非常有用:\n",
    "# class DerivedClassName(otherModname.BaseClassName):\n",
    "\n",
    "# 类的私有方法\n",
    "# __private_method：两个下划线开头，声明该方法为私有方法，只能在类的内部调用 ，不能在类的外部调用。\n",
    "class JustCounter:\n",
    "    __secretCount = 0  # 私有变量\n",
    "    publicCount = 0  # 公开变量\n",
    "\n",
    "    def count(self):\n",
    "        self.__secretCount += 1\n",
    "        self.publicCount += 1\n",
    "        print(self.__secretCount)\n",
    "\n",
    "\n",
    "counter = JustCounter()\n",
    "counter.count()\n",
    "counter.count()\n",
    "print(counter.publicCount)\n",
    "# print(counter.__secretCount)  # 报错，实例不能访问私有变量"
   ]
  },
  {
   "cell_type": "code",
   "execution_count": 61,
   "metadata": {},
   "outputs": [
    {
     "name": "stdout",
     "output_type": "stream",
     "text": [
      "student_instance 说: 我 18 岁了，我在读 3 年级\n",
      "我叫 Tim，我是一个演说家，我演讲的主题是 Python\n"
     ]
    }
   ],
   "source": [
    "# BaseClassName（示例中的基类名）必须与派生类定义在一个作用域内。除了类，还可以用表达式，基类定义在另一个模块中时这一点非常有用:\n",
    "# class DerivedClassName(otherModname.BaseClassName):\n",
    "class People:\n",
    "    # 定义基本属性\n",
    "    name = ''\n",
    "    age = 0\n",
    "    # 定义私有属性,私有属性在类外部无法直接进行访问\n",
    "    __weight = 0\n",
    "\n",
    "    # 定义构造方法\n",
    "    def __init__(self, name, age, weight):\n",
    "        self.name = name\n",
    "        self.age = age\n",
    "        self.__weight = weight\n",
    "\n",
    "    def speak(self):\n",
    "        print(\"%s 说: 我 %d 岁。\" % (self.name, self.age))\n",
    "\n",
    "\n",
    "# 单继承示例\n",
    "class Student(People):\n",
    "    grade = ''\n",
    "\n",
    "    def __init__(self, name, age, weight, grade):\n",
    "        # 调用父类的构函\n",
    "        People.__init__(self, name, age, weight)\n",
    "        self.grade = grade\n",
    "\n",
    "    # 覆写父类的方法\n",
    "    def speak(self):\n",
    "        print(\"%s 说: 我 %d 岁了，我在读 %d 年级\" % (self.name, self.age, self.grade))\n",
    "\n",
    "\n",
    "student_instance = Student('student_instance', 18, 120, 3) # 初始化的参数要看__init__\n",
    "student_instance.speak()\n",
    "\n",
    "\n",
    "# 另一个类，多重继承之前的准备\n",
    "class Speaker:\n",
    "    topic = ''\n",
    "    name = ''\n",
    "\n",
    "    def __init__(self, name, topic):\n",
    "        self.name = name\n",
    "        self.topic = topic\n",
    "\n",
    "    def speak(self):\n",
    "        print(\"我叫 %s，我是一个演说家，我演讲的主题是 %s\" % (self.name, self.topic))\n",
    "\n",
    "\n",
    "# 多重继承\n",
    "class Sample(Speaker, Student):\n",
    "    a = ''\n",
    "\n",
    "    def __init__(self, name, age, weight, grade, topic):\n",
    "        Student.__init__(self, name, age, weight, grade)\n",
    "        Speaker.__init__(self, name, topic)\n",
    "\n",
    "\n",
    "test = Sample(\"Tim\", 25, 80, 4, \"Python\")\n",
    "test.speak()  # 方法名同，默认调用的是在括号中排前的父类的方法，排前的！\n"
   ]
  },
  {
   "cell_type": "code",
   "execution_count": 62,
   "metadata": {},
   "outputs": [
    {
     "name": "stdout",
     "output_type": "stream",
     "text": [
      "enter D\n",
      "enter B\n",
      "enter A\n",
      "leave A\n",
      "leave B\n",
      "enter C\n",
      "enter A\n",
      "leave A\n",
      "leave C\n",
      "leave D\n"
     ]
    }
   ],
   "source": [
    "# 经典的菱形继承案例，BC 继承 A，然后 D 继承 BC，创造一个 D 的对象\n",
    "#      ---> B ---\n",
    "# A --|          |--> D\n",
    "#      ---> C ---\n",
    "\n",
    "# 使用 super() 可以很好地避免构造函数被调用两次。\n",
    "\n",
    "# 先是不使用super()看看效果：\n",
    "class A:\n",
    "    def __init__(self):\n",
    "        print('enter A')\n",
    "        print('leave A')\n",
    "\n",
    "\n",
    "class B(A):\n",
    "    def __init__(self):\n",
    "        print('enter B')\n",
    "        A.__init__(self)\n",
    "        print('leave B')\n",
    "\n",
    "\n",
    "class C(A):\n",
    "    def __init__(self):\n",
    "        print('enter C')\n",
    "        A.__init__(self)\n",
    "        print('leave C')\n",
    "\n",
    "\n",
    "class D(B, C):\n",
    "    def __init__(self):\n",
    "        print('enter D')\n",
    "        B.__init__(self)\n",
    "        C.__init__(self)\n",
    "        print('leave D')\n",
    "\n",
    "\n",
    "d = D()"
   ]
  },
  {
   "cell_type": "code",
   "execution_count": 63,
   "metadata": {},
   "outputs": [
    {
     "name": "stdout",
     "output_type": "stream",
     "text": [
      "enter D\n",
      "enter B\n",
      "enter C\n",
      "enter A\n",
      "leave A\n",
      "leave C\n",
      "leave B\n",
      "leave D\n"
     ]
    }
   ],
   "source": [
    "# 再使用super()看看输出\n",
    "class A():\n",
    "    def __init__(self):\n",
    "        print('enter A')\n",
    "        print('leave A')\n",
    "\n",
    "\n",
    "class B(A):\n",
    "    def __init__(self):\n",
    "        print('enter B')\n",
    "        super().__init__()\n",
    "        print('leave B')\n",
    "\n",
    "\n",
    "class C(A):\n",
    "    def __init__(self):\n",
    "        print('enter C')\n",
    "        super().__init__()\n",
    "        print('leave C')\n",
    "\n",
    "\n",
    "class D(B, C):\n",
    "    def __init__(self):\n",
    "        print('enter D')\n",
    "        super().__init__()\n",
    "        print('leave D')\n",
    "\n",
    "\n",
    "d = D()"
   ]
  },
  {
   "cell_type": "markdown",
   "metadata": {},
   "source": [
    "# 列表推导式"
   ]
  },
  {
   "cell_type": "code",
   "execution_count": 36,
   "metadata": {},
   "outputs": [
    {
     "data": {
      "text/plain": [
       "[(1, 1), (3, 3)]"
      ]
     },
     "execution_count": 36,
     "metadata": {},
     "output_type": "execute_result"
    }
   ],
   "source": [
    "# 列表推导式 把某种操作应用于序列或可迭代对象的每个元素上，然后使用其结果来创建列表，或者通过满足某些特定条件元素来创建子序列。\n",
    "\n",
    "[(x, y) for x in [1,2,3] for y in [3,1,4] if x == y]\n",
    "\n",
    "# 等价于\n",
    "# combs = []\n",
    "# for x in [1,2,3]:\n",
    "#     for y in [3,1,4]:\n",
    "#         if x == y:\n",
    "#             combs.append((x, y))\n",
    "# combs"
   ]
  },
  {
   "cell_type": "code",
   "execution_count": 48,
   "metadata": {},
   "outputs": [
    {
     "name": "stdout",
     "output_type": "stream",
     "text": [
      "[6, 12, 18]\n",
      "[[2, 4], [4, 16], [6, 36]]\n",
      "[12, 18]\n",
      "[]\n"
     ]
    }
   ],
   "source": [
    "vec = [2, 4, 6]\n",
    "\n",
    "# 我们将列表中每个数值乘三，获得一个新的列表：\n",
    "print([3*x for x in vec])\n",
    "\n",
    "print([[x, x**2] for x in vec])\n",
    "\n",
    "# 我们可以用 if 子句作为过滤器：\n",
    "print([3*x for x in vec if x > 3])\n",
    "\n",
    "print([3*x for x in vec if x < 2])"
   ]
  },
  {
   "cell_type": "code",
   "execution_count": 49,
   "metadata": {},
   "outputs": [
    {
     "name": "stdout",
     "output_type": "stream",
     "text": [
      "[8, 6, -18, 16, 12, -36, 24, 18, -54]\n",
      "[6, 5, -7, 8, 7, -5, 10, 9, -3]\n",
      "[8, 12, -54]\n"
     ]
    }
   ],
   "source": [
    "vec1 = [2, 4, 6]\n",
    "vec2 = [4, 3, -9]\n",
    "print([x*y for x in vec1 for y in vec2])\n",
    "print([x+y for x in vec1 for y in vec2])\n",
    "print([vec1[i]*vec2[i] for i in range(len(vec1))])"
   ]
  },
  {
   "cell_type": "code",
   "execution_count": 93,
   "metadata": {},
   "outputs": [
    {
     "name": "stdout",
     "output_type": "stream",
     "text": [
      "[1, 5, 9]\n"
     ]
    }
   ],
   "source": [
    "matrix = [\n",
    "    [1, 2, 3, 4],\n",
    "    [5, 6, 7, 8],\n",
    "    [9, 10, 11, 12],\n",
    "]\n",
    "# ???\n",
    "print([row[0] for row in matrix])\n",
    "print([[row[i] for row in matrix] for i in range(4)])"
   ]
  },
  {
   "cell_type": "markdown",
   "metadata": {},
   "source": [
    "# 迭代器(Iterators)"
   ]
  },
  {
   "cell_type": "code",
   "execution_count": 64,
   "metadata": {},
   "outputs": [
    {
     "name": "stdout",
     "output_type": "stream",
     "text": [
      "1\n",
      "2\n",
      "3~ 4~ "
     ]
    }
   ],
   "source": [
    "# 迭代器是一个可以记住遍历的位置的对象\n",
    "# 迭代器对象从集合的第一个元素开始访问，直到所有的元素被访问完结束。迭代器只能往前不会后退\n",
    "# iter() 和 next()\n",
    "list_iter = [1, 2, 3, 4]\n",
    "it = iter(list_iter)  # 创建迭代器对象\n",
    "print(next(it))  # 输出 迭代器的下一个元素\n",
    "print(next(it))\n",
    "for x in it:\n",
    "    print(x, end=\"~ \")"
   ]
  },
  {
   "cell_type": "code",
   "execution_count": 72,
   "metadata": {},
   "outputs": [
    {
     "name": "stdout",
     "output_type": "stream",
     "text": [
      "1\n",
      "2\n",
      "3\n",
      "4\n",
      "5\n"
     ]
    }
   ],
   "source": [
    "# 把一个类作为一个迭代器使用需要在类中实现两个方法 __iter__() 与 __next__()\n",
    "# __iter__() 方法返回一个特殊的迭代器对象， 这个迭代器对象实现了 __next__() 方法并通过 StopIteration 异常标识迭代的完成\n",
    "# __next__() 方法会返回下一个迭代器对象\n",
    "\n",
    "# 创建一个返回数字的迭代器，初始值为 1，逐步递增 1：\n",
    "class MyIterators1:\n",
    "    def __iter__(self):\n",
    "        self.a = 1\n",
    "        return self\n",
    "\n",
    "    def __next__(self):\n",
    "        x = self.a\n",
    "        self.a += 1\n",
    "        return x\n",
    "\n",
    "\n",
    "myIterInstance1 = MyIterators1()\n",
    "myIterators1 = iter(myIterInstance1)\n",
    "\n",
    "print(next(myIterators1))\n",
    "print(next(myIterators1))\n",
    "print(next(myIterators1))\n",
    "print(next(myIterators1))\n",
    "print(next(myIterators1))"
   ]
  },
  {
   "cell_type": "code",
   "execution_count": 70,
   "metadata": {},
   "outputs": [
    {
     "name": "stdout",
     "output_type": "stream",
     "text": [
      "1\n",
      "2\n",
      "3\n",
      "4\n",
      "5\n",
      "6\n",
      "7\n",
      "8\n",
      "9\n",
      "10\n",
      "11\n",
      "12\n",
      "13\n",
      "14\n",
      "15\n",
      "16\n",
      "17\n",
      "18\n",
      "19\n",
      "20\n"
     ]
    }
   ],
   "source": [
    "# StopIteration 异常用于标识迭代的完成，防止出现无限循环的情况，在 __next__() 方法中我们可以设置在完成指定循环次数后触发 StopIteration 异常来结束迭代。\n",
    "class MyIterators2:\n",
    "    def __iter__(self):\n",
    "        self.a = 1\n",
    "        return self\n",
    "\n",
    "    def __next__(self):\n",
    "        if self.a <= 20:\n",
    "            x = self.a\n",
    "            self.a += 1\n",
    "            return x\n",
    "        else:\n",
    "            raise StopIteration\n",
    "\n",
    "\n",
    "myIterInstance2 = MyIterators2()\n",
    "myIterators2 = iter(myIterInstance2)\n",
    "\n",
    "for x in myIterators2:\n",
    "    print(x)"
   ]
  },
  {
   "cell_type": "markdown",
   "metadata": {},
   "source": [
    "# 生成器（generator）"
   ]
  },
  {
   "cell_type": "code",
   "execution_count": null,
   "metadata": {},
   "outputs": [],
   "source": [
    "# 使用了 yield 的函数被称为生成器（generator），跟普通函数不同的是，生成器是一个返回迭代器的函数，只能用于迭代操作\n",
    "# 调用一个生成器函数，返回的是一个迭代器对象\n",
    "# 在调用生成器运行的过程中，每次遇到 yield 时函数会暂停并保存当前所有的运行信息，返回 yield 的值, 并在下一次执行 next() 方法时从当前位置继续运行\n",
    "\n",
    "def fibonacci(n):  # 生成器函数 - 斐波那契\n",
    "    a, b, counter = 0, 1, 0\n",
    "    while True:\n",
    "        if counter > n:\n",
    "            print('当前计数器：', counter)\n",
    "            return\n",
    "        yield a, b\n",
    "        a, b = b, a + b\n",
    "        counter += 1\n",
    "\n",
    "\n",
    "f = fibonacci(10)  # f 是一个迭代器，由生成器返回生成\n",
    "\n",
    "while True:\n",
    "    try:\n",
    "        print(next(f))\n",
    "    except StopIteration:\n",
    "        sys.exit()"
   ]
  },
  {
   "cell_type": "markdown",
   "metadata": {},
   "source": [
    "# 异常处理"
   ]
  },
  {
   "cell_type": "markdown",
   "metadata": {},
   "source": [
    "如果在执行try子句的过程中发生了异常，那么try子句余下的部分将被忽略。如果异常的类型和 except 之后的名称相符，那么对应的except子句将被执行。最后执行 try 语句之后的代码。\n",
    "\n",
    "如果一个异常没有与任何的except匹配，那么这个异常将会传递给上层的try中。\n",
    "\n",
    "except 是JS里的 catch， raise 是JS里的 throw\n",
    "\n",
    "Python 使用 raise 语句抛出一个指定的异常。"
   ]
  },
  {
   "cell_type": "code",
   "execution_count": 95,
   "metadata": {},
   "outputs": [
    {
     "name": "stdout",
     "output_type": "stream",
     "text": [
      "请输入一个数字: dd\n",
      "您输入的不是数字，请再次尝试输入！\n",
      "请输入一个数字: 322\n"
     ]
    }
   ],
   "source": [
    "# 让用户输入一个合法的整数，但是允许用户中断这个程序（使用 Control-C 或者操作系统提供的方法）。\n",
    "# 用户中断的信息会引发一个 KeyboardInterrupt 异常。\n",
    "\n",
    "while True:\n",
    "    try:\n",
    "        x = int(input(\"请输入一个数字: \"))\n",
    "        break\n",
    "    except ValueError:\n",
    "        print(\"您输入的不是数字，请再次尝试输入！\")"
   ]
  },
  {
   "cell_type": "code",
   "execution_count": null,
   "metadata": {},
   "outputs": [],
   "source": [
    "# 一个except子句可以同时处理多个异常，这些异常将被放在一个括号里成为一个元组，例如:\n",
    "except(RuntimeError, TypeError, NameError):\n",
    "    pass"
   ]
  },
  {
   "cell_type": "code",
   "execution_count": 97,
   "metadata": {},
   "outputs": [
    {
     "name": "stdout",
     "output_type": "stream",
     "text": [
      "OS error: [Errno 2] No such file or directory: 'myfile.txt'\n"
     ]
    }
   ],
   "source": [
    "# 最后一个except子句可以忽略异常的名称，它将被当作通配符使用。你可以使用这种方法打印一个错误信息，然后再次把异常抛出。\n",
    "try:\n",
    "    f = open('myfile.txt')\n",
    "    s = f.readline()\n",
    "    i = int(s.strip())\n",
    "except OSError as err:\n",
    "    print(\"OS error: {0}\".format(err))\n",
    "except ValueError:\n",
    "    print(\"Could not convert data to an integer.\")\n",
    "except:\n",
    "    print(\"Unexpected error:\", sys.exc_info()[0])\n",
    "    raise"
   ]
  },
  {
   "cell_type": "code",
   "execution_count": 98,
   "metadata": {},
   "outputs": [
    {
     "ename": "NameError",
     "evalue": "name 'sys' is not defined",
     "output_type": "error",
     "traceback": [
      "\u001b[0;31m---------------------------------------------------------------------------\u001b[0m",
      "\u001b[0;31mNameError\u001b[0m                                 Traceback (most recent call last)",
      "\u001b[0;32m<ipython-input-98-835c55e354c2>\u001b[0m in \u001b[0;36m<module>\u001b[0;34m\u001b[0m\n\u001b[1;32m      1\u001b[0m \u001b[0;31m# try except 语句还有一个可选的else子句，如果使用这个子句，那么必须放在所有的except子句之后。\u001b[0m\u001b[0;34m\u001b[0m\u001b[0;34m\u001b[0m\u001b[0;34m\u001b[0m\u001b[0m\n\u001b[1;32m      2\u001b[0m \u001b[0;31m# 这个子句将在try子句没有发生任何异常的时候执行。例如:\u001b[0m\u001b[0;34m\u001b[0m\u001b[0;34m\u001b[0m\u001b[0;34m\u001b[0m\u001b[0m\n\u001b[0;32m----> 3\u001b[0;31m \u001b[0;32mfor\u001b[0m \u001b[0marg\u001b[0m \u001b[0;32min\u001b[0m \u001b[0msys\u001b[0m\u001b[0;34m.\u001b[0m\u001b[0margv\u001b[0m\u001b[0;34m[\u001b[0m\u001b[0;36m1\u001b[0m\u001b[0;34m:\u001b[0m\u001b[0;34m]\u001b[0m\u001b[0;34m:\u001b[0m\u001b[0;34m\u001b[0m\u001b[0;34m\u001b[0m\u001b[0m\n\u001b[0m\u001b[1;32m      4\u001b[0m     \u001b[0;32mtry\u001b[0m\u001b[0;34m:\u001b[0m\u001b[0;34m\u001b[0m\u001b[0;34m\u001b[0m\u001b[0m\n\u001b[1;32m      5\u001b[0m        \u001b[0mf\u001b[0m \u001b[0;34m=\u001b[0m \u001b[0mopen\u001b[0m\u001b[0;34m(\u001b[0m\u001b[0marg\u001b[0m\u001b[0;34m,\u001b[0m \u001b[0;34m'r'\u001b[0m\u001b[0;34m)\u001b[0m\u001b[0;34m\u001b[0m\u001b[0;34m\u001b[0m\u001b[0m\n",
      "\u001b[0;31mNameError\u001b[0m: name 'sys' is not defined"
     ]
    }
   ],
   "source": [
    "# try except 语句还有一个可选的else子句，如果使用这个子句，那么必须放在所有的except子句之后。\n",
    "# 这个子句将在try子句没有发生任何异常的时候执行。例如:\n",
    "# 以下实例在 try 语句中判断文件是否可以打开，如果打开文件时正常的没有发生异常则执行 else 部分的语句，读取文件内容：\n",
    "for arg in sys.argv[1:]:\n",
    "    try:\n",
    "       f = open(arg, 'r')\n",
    "    except IOError:\n",
    "        print('cannot open', arg)\n",
    "    else:\n",
    "        print(arg, 'has', len(f.readlines()), 'lines')\n",
    "        f.close()\n",
    "        \n",
    "# 使用 else 子句比把所有的语句都放在 try 子句里面要好，这样可以避免一些意想不到，而 except 又无法捕获的异常。"
   ]
  },
  {
   "cell_type": "code",
   "execution_count": null,
   "metadata": {},
   "outputs": [],
   "source": [
    "# 使用 raise 语句抛出一个指定的异常。raise 唯一的一个参数指定了要被抛出的异常。它必须是一个异常的实例或者是异常的类（也就是 Exception 的子类）\n",
    "raise NameError('HiThere')"
   ]
  },
  {
   "cell_type": "code",
   "execution_count": 99,
   "metadata": {},
   "outputs": [
    {
     "name": "stdout",
     "output_type": "stream",
     "text": [
      "My exception occurred, value: 4\n"
     ]
    },
    {
     "ename": "MyError",
     "evalue": "'oops!'",
     "output_type": "error",
     "traceback": [
      "\u001b[0;31m---------------------------------------------------------------------------\u001b[0m",
      "\u001b[0;31mMyError\u001b[0m                                   Traceback (most recent call last)",
      "\u001b[0;32m<ipython-input-99-6a7a7f66261b>\u001b[0m in \u001b[0;36m<module>\u001b[0;34m\u001b[0m\n\u001b[1;32m     13\u001b[0m     \u001b[0mprint\u001b[0m\u001b[0;34m(\u001b[0m\u001b[0;34m'My exception occurred, value:'\u001b[0m\u001b[0;34m,\u001b[0m \u001b[0merror\u001b[0m\u001b[0;34m.\u001b[0m\u001b[0mvalue\u001b[0m\u001b[0;34m)\u001b[0m\u001b[0;34m\u001b[0m\u001b[0;34m\u001b[0m\u001b[0m\n\u001b[1;32m     14\u001b[0m \u001b[0;34m\u001b[0m\u001b[0m\n\u001b[0;32m---> 15\u001b[0;31m \u001b[0;32mraise\u001b[0m \u001b[0mMyError\u001b[0m\u001b[0;34m(\u001b[0m\u001b[0;34m'oops!'\u001b[0m\u001b[0;34m)\u001b[0m\u001b[0;34m\u001b[0m\u001b[0;34m\u001b[0m\u001b[0m\n\u001b[0m",
      "\u001b[0;31mMyError\u001b[0m: 'oops!'"
     ]
    }
   ],
   "source": [
    "# 你可以通过创建一个新的异常类来拥有自己的异常。异常类继承自 Exception 类，可以直接继承，或者间接继承\n",
    "class MyError(Exception):\n",
    "    def __init__(self, value):\n",
    "        self.value = value\n",
    "\n",
    "    def __str__(self):\n",
    "        return repr(self.value)\n",
    "\n",
    "\n",
    "try:\n",
    "    raise MyError(2 * 2)\n",
    "except MyError as error:\n",
    "    print('My exception occurred, value:', error.value)\n",
    "\n",
    "raise MyError('oops!')"
   ]
  },
  {
   "cell_type": "code",
   "execution_count": null,
   "metadata": {},
   "outputs": [],
   "source": [
    "# try 语句还有另外一个可选的子句，它定义了无论在任何情况下都会执行的清理行为。 例如:\n",
    "try:\n",
    "    raise KeyboardInterrupt\n",
    "finally:\n",
    "    print('Goodbye, world!')"
   ]
  },
  {
   "cell_type": "code",
   "execution_count": 103,
   "metadata": {},
   "outputs": [
    {
     "name": "stdout",
     "output_type": "stream",
     "text": [
      "executing finally clause\n"
     ]
    },
    {
     "ename": "TypeError",
     "evalue": "unsupported operand type(s) for /: 'str' and 'str'",
     "output_type": "error",
     "traceback": [
      "\u001b[0;31m---------------------------------------------------------------------------\u001b[0m",
      "\u001b[0;31mTypeError\u001b[0m                                 Traceback (most recent call last)",
      "\u001b[0;32m<ipython-input-103-d80a0be06534>\u001b[0m in \u001b[0;36m<module>\u001b[0;34m\u001b[0m\n\u001b[1;32m     13\u001b[0m \u001b[0;31m#divide(2, 1)\u001b[0m\u001b[0;34m\u001b[0m\u001b[0;34m\u001b[0m\u001b[0;34m\u001b[0m\u001b[0m\n\u001b[1;32m     14\u001b[0m \u001b[0;31m#divide(2, 0)\u001b[0m\u001b[0;34m\u001b[0m\u001b[0;34m\u001b[0m\u001b[0;34m\u001b[0m\u001b[0m\n\u001b[0;32m---> 15\u001b[0;31m \u001b[0mdivide\u001b[0m\u001b[0;34m(\u001b[0m\u001b[0;34m\"2\"\u001b[0m\u001b[0;34m,\u001b[0m \u001b[0;34m\"1\"\u001b[0m\u001b[0;34m)\u001b[0m\u001b[0;34m\u001b[0m\u001b[0;34m\u001b[0m\u001b[0m\n\u001b[0m",
      "\u001b[0;32m<ipython-input-103-d80a0be06534>\u001b[0m in \u001b[0;36mdivide\u001b[0;34m(x, y)\u001b[0m\n\u001b[1;32m      2\u001b[0m \u001b[0;32mdef\u001b[0m \u001b[0mdivide\u001b[0m\u001b[0;34m(\u001b[0m\u001b[0mx\u001b[0m\u001b[0;34m,\u001b[0m \u001b[0my\u001b[0m\u001b[0;34m)\u001b[0m\u001b[0;34m:\u001b[0m\u001b[0;34m\u001b[0m\u001b[0;34m\u001b[0m\u001b[0m\n\u001b[1;32m      3\u001b[0m     \u001b[0;32mtry\u001b[0m\u001b[0;34m:\u001b[0m\u001b[0;34m\u001b[0m\u001b[0;34m\u001b[0m\u001b[0m\n\u001b[0;32m----> 4\u001b[0;31m         \u001b[0mresult\u001b[0m \u001b[0;34m=\u001b[0m \u001b[0mx\u001b[0m \u001b[0;34m/\u001b[0m \u001b[0my\u001b[0m\u001b[0;34m\u001b[0m\u001b[0;34m\u001b[0m\u001b[0m\n\u001b[0m\u001b[1;32m      5\u001b[0m     \u001b[0;32mexcept\u001b[0m \u001b[0mZeroDivisionError\u001b[0m\u001b[0;34m:\u001b[0m\u001b[0;34m\u001b[0m\u001b[0;34m\u001b[0m\u001b[0m\n\u001b[1;32m      6\u001b[0m         \u001b[0mprint\u001b[0m\u001b[0;34m(\u001b[0m\u001b[0;34m\"division by zero!\"\u001b[0m\u001b[0;34m)\u001b[0m\u001b[0;34m\u001b[0m\u001b[0;34m\u001b[0m\u001b[0m\n",
      "\u001b[0;31mTypeError\u001b[0m: unsupported operand type(s) for /: 'str' and 'str'"
     ]
    }
   ],
   "source": [
    "# 如果一个异常在 try 子句里（或者在 except 和 else 子句里）被抛出，而又没有任何的 except 把它截住，那么这个异常会在 finally 子句执行后被抛出。\n",
    "def divide(x, y):\n",
    "    try:\n",
    "        result = x / y\n",
    "    except ZeroDivisionError:\n",
    "        print(\"division by zero!\")\n",
    "    else:\n",
    "        print(\"result is\", result)\n",
    "    finally:\n",
    "        print(\"executing finally clause\")\n",
    "\n",
    "\n",
    "#divide(2, 1)\n",
    "#divide(2, 0)\n",
    "divide(\"2\", \"1\")"
   ]
  },
  {
   "cell_type": "code",
   "execution_count": null,
   "metadata": {},
   "outputs": [],
   "source": [
    "# 当创建一个模块有可能抛出多种不同的异常时，一种通常的做法是为这个包建立一个基础异常类，然后基于这个基础类为不同的错误情况创建不同的子类:\n",
    "\n",
    "class Error(Exception):\n",
    "    \"\"\"Base class for exceptions in this module.\"\"\"\n",
    "    pass\n",
    "\n",
    "\n",
    "class InputError(Error):\n",
    "    \"\"\"Exception raised for errors in the input.\n",
    "\n",
    "    Attributes:\n",
    "        expression -- input expression in which the error occurred\n",
    "        message -- explanation of the error\n",
    "    \"\"\"\n",
    "\n",
    "    def __init__(self, expression, message):\n",
    "        self.expression = expression\n",
    "        self.message = message\n",
    "\n",
    "\n",
    "class TransitionError(Error):\n",
    "    \"\"\"Raised when an operation attempts a state transition that's not\n",
    "    allowed.\n",
    "\n",
    "    Attributes:\n",
    "        previous -- state at beginning of transition\n",
    "        next -- attempted new state\n",
    "        message -- explanation of why the specific transition is not allowed\n",
    "    \"\"\"\n",
    "\n",
    "    def __init__(self, previous, next, message):\n",
    "        self.previous = previous\n",
    "        self.next = next\n",
    "        self.message = message"
   ]
  }
 ],
 "metadata": {
  "kernelspec": {
   "display_name": "Python 3",
   "language": "python",
   "name": "python3"
  },
  "language_info": {
   "codemirror_mode": {
    "name": "ipython",
    "version": 3
   },
   "file_extension": ".py",
   "mimetype": "text/x-python",
   "name": "python",
   "nbconvert_exporter": "python",
   "pygments_lexer": "ipython3",
   "version": "3.7.3"
  }
 },
 "nbformat": 4,
 "nbformat_minor": 2
}
