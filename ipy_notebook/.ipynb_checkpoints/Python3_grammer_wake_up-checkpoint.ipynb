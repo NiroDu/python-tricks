{
 "cells": [
  {
   "cell_type": "markdown",
   "metadata": {},
   "source": [
    "# 运算符"
   ]
  },
  {
   "cell_type": "markdown",
   "metadata": {},
   "source": [
    "- `+=`\t加法赋值运算符\tc += a 等效于 c = c + a  (其余的同理)\n",
    "\n",
    "- `%`\t取模 - 返回除法的余数\n",
    "- `**`\t幂 - 返回x的y次幂\n",
    "- `//`\t取整除 - 向下取接近除数的整数"
   ]
  },
  {
   "cell_type": "code",
   "execution_count": null,
   "metadata": {},
   "outputs": [],
   "source": [
    "print(21 % 10)\n",
    "print(2**4)\n",
    "print(9//2)"
   ]
  },
  {
   "cell_type": "markdown",
   "metadata": {},
   "source": [
    "按位运算符是把数字看作二进制来进行计算。\n",
    "\n",
    "- `&`   按位与运算符：参与运算的两个值,如果两个相应位都为1,则该位的结果为1,否则为0。\n",
    "- `|`   按位或运算符：只要对应的二个二进位有一个为1时，结果位就为1。\n",
    "- `^`\t按位异或运算符：当两对应的二进位相异时，结果为1。\n",
    "- `~`\t按位取反运算符：对数据的每个二进制位取反,即把1变为0,把0变为1。\n",
    "- `<<`\t左移动运算符：运算数的各二进位全部左移若干位，由\"<<\"右边的数指定移动的位数，高位丢弃，低位补0。\n",
    "- `>>`\t右移动运算符：把\">>\"左边的运算数的各二进位全部右移若干位，\">>\"右边的数指定移动的位数。"
   ]
  },
  {
   "cell_type": "code",
   "execution_count": null,
   "metadata": {},
   "outputs": [],
   "source": [
    "a = 60            # 60 = 0011 1100 \n",
    "b = 13            # 13 = 0000 1101 \n",
    "print(a & b)      # 12 = 0000 1100\n",
    "print(a | b)      # 61 = 0011 1101\n",
    "print(a ^ b)      # 49 = 0011 0001\n",
    "print(~a)         # -61 = 1100 0011\n",
    "print(a << 2)     # 240 = 1111 0000\n",
    "print(a >> 2)     # 15 = 0000 1111"
   ]
  },
  {
   "cell_type": "markdown",
   "metadata": {},
   "source": [
    "- `and`  布尔\"与\" - 如果 x 为 False，x and y 返回 False，否则它返回 y 的计算值。\n",
    "- `or`\t 布尔\"或\" - 如果 x 是 True，它返回 x 的值，否则它返回 y 的计算值。\n",
    "- `not`\t 布尔\"非\" - 如果 x 为 True，返回 False 。如果 x 为 False，它返回 True。\n",
    "\n",
    "- `in`   如果在指定的序列中找到值返回 True，否则返回 False。\n",
    "- `not in`\t如果在指定的序列中没有找到值返回 True，否则返回 False。"
   ]
  },
  {
   "cell_type": "code",
   "execution_count": null,
   "metadata": {},
   "outputs": [],
   "source": [
    "a = 10\n",
    "b = 20\n",
    "list = [1, 2, 3, 4, 5 ];\n",
    " \n",
    "if ( a in list ):\n",
    "   print (\"变量 a 在给定的列表中 list 中\")\n",
    "else:\n",
    "   print (\"变量 a 不在给定的列表中 list 中\")"
   ]
  },
  {
   "cell_type": "markdown",
   "metadata": {},
   "source": [
    "# 标准数据类型\n",
    "## Number（数字）\n",
    "\n",
    "- `int(x)` 将x转换为一个整数。\n",
    "\n",
    "- `float(x)` 将x转换到一个浮点数。\n",
    "\n",
    "- `complex(x)` 将x转换到一个复数，实数部分为 x，虚数部分为 0。\n",
    "\n",
    "- `complex(x, y)` 将 x 和 y 转换到一个复数，实数部分为 x，虚数部分为 y。x 和 y 是数字表达式。"
   ]
  },
  {
   "cell_type": "code",
   "execution_count": null,
   "metadata": {},
   "outputs": [],
   "source": [
    "x = '12'\n",
    "print(type(x))\n",
    "print(type(int(x)))"
   ]
  },
  {
   "cell_type": "markdown",
   "metadata": {},
   "source": [
    "## String（字符串）"
   ]
  },
  {
   "cell_type": "markdown",
   "metadata": {},
   "source": [
    "- 反斜杠可以用来转义，使用`r`可以让反斜杠不发生转义。\n",
    "- 字符串的截取的语法：`变量[头下标:尾下标:步长]`，遵循左闭右开原则，`str[0,2]`是不包含第 3 个字符的。\n",
    "- `%`\t 格式字符串。或者使用format函数\n",
    "- `+`\t 字符串连接。\n",
    "- `*`\t 重复输出字符串。\n",
    "- `\"\"\"`  三引号允许一个字符串跨多行，字符串中可以包含换行符、制表符以及其他特殊字符。\n",
    "- f-string 格式话字符串以 `f` 开头，后面跟着字符串，字符串中的表达式用大括号 `{}` 包起来，它会将变量或表达式计算后的值替换进去"
   ]
  },
  {
   "cell_type": "code",
   "execution_count": null,
   "metadata": {},
   "outputs": [],
   "source": [
    "print(\"this is a line with \\n\")\n",
    "print(r\"this is a line with \\n\")\n",
    "\n",
    "x = 'Hello World!'\n",
    "print(x[0:5])\n",
    "print(x[0:12:2])\n",
    "\n",
    "print (\"我叫 %s 今年 %d 岁!\" % ('小明', 10))\n",
    "print(\"我叫：{name}, 今年 {age} 岁! \".format(name=\"小明\", age=12))\n",
    "\n",
    "# 通过字典设置参数\n",
    "site = {\"name\": \"菜鸟教程\", \"url\": \"www.runoob.com\"}\n",
    "print(\"网站名：{name}, 地址 {url}\".format(**site))\n",
    " \n",
    "# 通过列表索引设置参数\n",
    "my_list = ['菜鸟教程', 'www.runoob.com']\n",
    "print(\"网站名：{0[0]}, 地址 {0[1]}\".format(my_list))  # \"0\" 是必须的\n",
    "\n",
    "print(x * 2)\n",
    "print(x + 'Du')\n",
    "\n",
    "para_str = \"\"\"多行字符串可以使用制表符\n",
    "TAB ( \\t )。\n",
    "也可以使用换行符 [ \\n ]。\n",
    "\"\"\"\n",
    "print(para_str)\n",
    "\n",
    "name = 'World'\n",
    "print(f'Hello {name}')\n",
    "print(f'{1+2}')\n",
    "w = {'first': 'Hi', 'second': 'World'}\n",
    "print(f'{w[\"first\"]}: {w[\"second\"]}')"
   ]
  },
  {
   "cell_type": "markdown",
   "metadata": {},
   "source": [
    "## List（列表）"
   ]
  },
  {
   "cell_type": "code",
   "execution_count": null,
   "metadata": {},
   "outputs": [],
   "source": [
    "list1 = ['Google', 'Runoob', 1997, 2000];\n",
    "list2 = [1, 2, 3, 4, 5, 6, 7 ];\n",
    "list3 = [{ 'value': '1'}, 2, 3, 4, 5, 6, 7 ];\n",
    "\n",
    "print (\"list1[0]: \", list1[0])\n",
    "print (\"list2[1:5]: \", list2[1:5])\n",
    "print (\"list3: \", list3[0])\n",
    "print (\"list3: \", list3[0]['value'])\n",
    "del list[2]"
   ]
  },
  {
   "cell_type": "markdown",
   "metadata": {},
   "source": [
    "## Tuple（元组）"
   ]
  },
  {
   "cell_type": "markdown",
   "metadata": {},
   "source": [
    "元组（tuple）与列表类似，不同之处在于元组的元素不能修改。元组写在小括号 () 里，元素之间用逗号隔开。\n",
    "\n",
    "虽然元组的元素不可改变，但它可以包含可变的对象，比如list列表。\n",
    "\n",
    "元组中的元素类型也可以不相同，元组中的元素值是不允许删除的，但我们可以使用del语句来删除整个元组。"
   ]
  },
  {
   "cell_type": "code",
   "execution_count": null,
   "metadata": {},
   "outputs": [],
   "source": [
    "tuple = ( 'abcd', 786 , 2.23, 'runoob', 70.2 )\n",
    "tup3 = \"a\", \"b\", \"c\", \"d\";   #  不需要括号也可以\n",
    "tup4 = tup3, (1, 2, 3, 4, 5)\n",
    "tup5 = tup3 + (1, 2, 3, 4, 5)\n",
    "print(tup3)\n",
    "print(tup4)\n",
    "print(tup5)\n",
    "\n",
    "del tuple\n",
    "print(tuple)\n",
    "\n",
    "print(len((1, 2, 3)))\n",
    "\n",
    "# 构造包含 0 个或 1 个元素的元组比较特殊，所以有一些额外的语法规则：\n",
    "tup1 = ()    # 空元组\n",
    "tup2 = (20,) # 一个元素，需要在元素后添加逗号"
   ]
  },
  {
   "cell_type": "markdown",
   "metadata": {},
   "source": [
    "## Dictionary（字典）"
   ]
  },
  {
   "cell_type": "raw",
   "metadata": {},
   "source": [
    "列表是有序的对象集合，字典是无序的对象集合。两者之间的区别在于：字典当中的元素是通过键来存取的，而不是通过偏移存取。\n",
    "\n",
    "字典是一种映射类型，字典用 `{ }` 标识，它是一个无序的 `键(key) : 值(value)`的集合。\n",
    "键(key)必须使用不可变类型。\n",
    "在同一个字典中，键(key)必须是唯一的。\n",
    "\n",
    "能删单一的元素也能清空字典，清空只需一项操作。"
   ]
  },
  {
   "cell_type": "code",
   "execution_count": null,
   "metadata": {},
   "outputs": [],
   "source": [
    "dict = {}\n",
    "dict['one'] = \"Hello\"\n",
    "dict[2]     = \"World\"\n",
    " \n",
    "tinydict = {\n",
    "'name': 'this_is_name',\n",
    "'code':1, \n",
    "'site': 'this_is_site'\n",
    "}\n",
    " \n",
    "print (\"dict['one']:\", dict['one'])       # 输出键为 'one' 的值\n",
    "print (\"dict[2]:\", dict[2])           # 输出键为 2 的值\n",
    "print (tinydict)          # 输出完整的字典\n",
    "print (tinydict.keys())   # 输出所有键\n",
    "print (tinydict.values()) # 输出所有值\n",
    "\n",
    "\n",
    "dict_for_del = {'Name': 'Runoob', 'Age': 7, 'Class': 'First'}\n",
    " \n",
    "del dict_for_del['Name'] # 删除键 'Name'\n",
    "print(dict_for_del)\n",
    "\n",
    "dict_for_del.clear()     # 清空字典\n",
    "print(dict_for_del)\n",
    "\n",
    "del dict_for_del         # 删除字典\n",
    "print(dict_for_del)"
   ]
  },
  {
   "cell_type": "markdown",
   "metadata": {},
   "source": [
    "构造函数 `dict()` 可以直接从键值对序列中构建字典如下："
   ]
  },
  {
   "cell_type": "code",
   "execution_count": null,
   "metadata": {},
   "outputs": [],
   "source": [
    "print(dict([('Runoob', 1), ('Google', 2), ('Taobao', 3)]))\n",
    "print(dict(Runoob=1, Google=2, Taobao=3))"
   ]
  },
  {
   "cell_type": "markdown",
   "metadata": {},
   "source": [
    "使用推导式（字典推导）"
   ]
  },
  {
   "cell_type": "code",
   "execution_count": null,
   "metadata": {},
   "outputs": [],
   "source": [
    "print({x: x**2 for x in (2, 4, 6)})"
   ]
  },
  {
   "cell_type": "markdown",
   "metadata": {},
   "source": [
    "## Set（集合）"
   ]
  },
  {
   "cell_type": "markdown",
   "metadata": {},
   "source": [
    "集合（set）是由一个或数个形态各异的大小整体组成的，构成集合的事物或对象称作元素或是成员。基本功能是进行成员关系测试和删除重复元素。\n",
    "\n",
    "可以使用大括号 `{ }` 或者 `set()` 函数创建集合。\n",
    "\n",
    "创建一个空集合必须用 `set()` 而不是 `{ }`，因为 `{ }` 是用来创建一个空字典。"
   ]
  },
  {
   "cell_type": "code",
   "execution_count": null,
   "metadata": {},
   "outputs": [],
   "source": [
    "student = {'Tom', 'Jim', 'Mary', 'Tom', 'Jack', 'Rose'}\n",
    "print(student)   # 输出集合，重复的元素被自动去掉\n",
    "\n",
    "# 成员测试\n",
    "if 'Rose' in student :\n",
    "    print('Rose 在集合中')\n",
    "else :\n",
    "    print('Rose 不在集合中')"
   ]
  },
  {
   "cell_type": "code",
   "execution_count": null,
   "metadata": {},
   "outputs": [],
   "source": [
    "# set可以进行集合运算\n",
    "a = set('abracadabra')\n",
    "b = set('alacazam')\n",
    " \n",
    "print(a)         # 去重输出，顺序是随机的\n",
    "print(a - b)     # a 和 b 的差集\n",
    "print(a | b)     # a 和 b 的并集\n",
    "print(a & b)     # a 和 b 的交集\n",
    "print(a ^ b)     # a 和 b 中不同时存在的元素\n",
    "\n",
    "# 支持集合推导式(Set comprehension)\n",
    "a = {x for x in 'abracadabra' if x not in 'abc'}\n",
    "print('comprehension:', a)"
   ]
  },
  {
   "cell_type": "code",
   "execution_count": null,
   "metadata": {},
   "outputs": [],
   "source": [
    "thisset = set((\"Google\", \"Runoob\", \"Taobao\"))\n",
    "thisset.add(\"Facebook\")\n",
    "print(thisset)\n",
    "\n",
    "# 还有一个方法，也可以添加元素，且参数可以是列表，元组，字典等\n",
    "thisset.update({1,3})\n",
    "print(thisset)\n",
    "\n",
    "# 移除元素\n",
    "thisset.remove(\"Taobao\")\n",
    "print(thisset)\n",
    "\n",
    "thisset.discard(\"Facebook\")  # 不存在不会发生错误\n",
    "\n",
    "# 清空\n",
    "thisset.clear()"
   ]
  },
  {
   "cell_type": "markdown",
   "metadata": {},
   "source": [
    "# 循环\n",
    "## while 循环"
   ]
  },
  {
   "cell_type": "code",
   "execution_count": null,
   "metadata": {},
   "outputs": [],
   "source": [
    "sum = 0\n",
    "counter = 1\n",
    "n = 3\n",
    "while counter <= n:\n",
    "    sum = sum + counter\n",
    "    counter += 1\n",
    "else:\n",
    "    print (counter, \"次数已到\")\n",
    "print(sum)"
   ]
  },
  {
   "cell_type": "markdown",
   "metadata": {},
   "source": [
    "## for循环"
   ]
  },
  {
   "cell_type": "code",
   "execution_count": null,
   "metadata": {},
   "outputs": [],
   "source": [
    "languages = [\"C\", \"C++\", \"Perl\", \"Python\"] \n",
    "for x in languages:\n",
    "    print (x)"
   ]
  },
  {
   "cell_type": "code",
   "execution_count": null,
   "metadata": {},
   "outputs": [],
   "source": [
    "# 在字典中遍历时，关键字和对应的值可以使用 `items()` 方法同时解读出来：\n",
    "\n",
    "knights = {'gallahad': 'the pure', 'robin': 'the brave'}\n",
    "for key, value in knights.items():\n",
    "    print(key, value)"
   ]
  },
  {
   "cell_type": "code",
   "execution_count": null,
   "metadata": {},
   "outputs": [],
   "source": [
    "# 在序列中遍历时，索引位置和对应值可以使用 `enumerate()` 函数同时得到：\n",
    "\n",
    "for i, v in enumerate(['tic', 'tac', 'toe']):\n",
    "    print(i, v)"
   ]
  },
  {
   "cell_type": "code",
   "execution_count": null,
   "metadata": {},
   "outputs": [],
   "source": [
    "# 同时遍历两个或更多的序列，可以使用 `zip()` 组合\n",
    "\n",
    "questions = ['name', 'quest', 'favorite color']\n",
    "answers = ['lancelot', 'the holy grail', 'blue']\n",
    "for q, a in zip(questions, answers):\n",
    "    print('What is your {0}?  It is {1}.'.format(q, a))"
   ]
  },
  {
   "cell_type": "code",
   "execution_count": null,
   "metadata": {},
   "outputs": [],
   "source": [
    "# 要反向遍历一个序列，首先指定这个序列，然后调用 `reversed()` 函数：\n",
    "\n",
    "for i in reversed(range(1, 10, 2)):\n",
    "    # range(1, 10, 2) 步长为2\n",
    "    print(i)"
   ]
  },
  {
   "cell_type": "code",
   "execution_count": null,
   "metadata": {},
   "outputs": [],
   "source": [
    "# 要按顺序遍历一个序列，使用 `sorted()` 函数返回一个已排序的序列，并不修改原值：\n",
    "\n",
    "basket = ['apple', 'orange', 'apple', 'pear', 'orange', 'banana']\n",
    "for f in sorted(set(basket)):\n",
    "    print(f)"
   ]
  },
  {
   "cell_type": "markdown",
   "metadata": {},
   "source": [
    "## range()循环\n",
    "\n",
    "如果你需要遍历数字序列，可以使用内置range()函数。它会生成数列"
   ]
  },
  {
   "cell_type": "code",
   "execution_count": null,
   "metadata": {},
   "outputs": [],
   "source": [
    "for i in range(5):\n",
    "    print(i)"
   ]
  },
  {
   "cell_type": "code",
   "execution_count": null,
   "metadata": {},
   "outputs": [],
   "source": [
    "for i in range(5, 9) :\n",
    "    print(i)"
   ]
  },
  {
   "cell_type": "code",
   "execution_count": null,
   "metadata": {},
   "outputs": [],
   "source": [
    "for i in range(0, 10, 3) :\n",
    "    print(i)"
   ]
  },
  {
   "cell_type": "code",
   "execution_count": null,
   "metadata": {},
   "outputs": [],
   "source": [
    "# 使用range()函数来创建一个列表\n",
    "\n",
    "list(range(5))"
   ]
  },
  {
   "cell_type": "markdown",
   "metadata": {},
   "source": [
    "## pass 语句\n",
    "Python pass是空语句，是为了保持程序结构的完整性。\n",
    "\n",
    "pass 不做任何事情，一般用做占位语句。"
   ]
  },
  {
   "cell_type": "code",
   "execution_count": null,
   "metadata": {},
   "outputs": [],
   "source": [
    "for letter in 'Niro': \n",
    "    if letter == 'o':\n",
    "        pass\n",
    "        print ('执行 pass 块')\n",
    "    print ('当前字母 :', letter)"
   ]
  },
  {
   "cell_type": "markdown",
   "metadata": {},
   "source": [
    "# 函数"
   ]
  },
  {
   "cell_type": "code",
   "execution_count": 28,
   "metadata": {},
   "outputs": [
    {
     "name": "stdout",
     "output_type": "stream",
     "text": [
      "名字:  runoob\n",
      "年龄:  35\n"
     ]
    }
   ],
   "source": [
    "def printinfo(name, age = 35):\n",
    "   print (\"名字: \", name)\n",
    "   print (\"年龄: \", age)\n",
    "   return\n",
    " \n",
    "printinfo(name=\"runoob\")"
   ]
  },
  {
   "cell_type": "markdown",
   "metadata": {},
   "source": [
    "你可能需要一个函数能处理比当初声明时更多的参数。这些参数叫做不定长参数。\n",
    "\n",
    "加了星号 `*` 的参数会以元组(tuple)的形式导入，存放所有未命名的变量参数。\n",
    "\n",
    "加了两个星号 `**` 的参数会以字典的形式导入。"
   ]
  },
  {
   "cell_type": "code",
   "execution_count": 31,
   "metadata": {},
   "outputs": [
    {
     "name": "stdout",
     "output_type": "stream",
     "text": [
      "70\n",
      "50\n",
      "(60, 50)\n"
     ]
    }
   ],
   "source": [
    "def printinfo( arg1, *vartuple ):\n",
    "    print(arg1)\n",
    "    print(vartuple[0])\n",
    "    print(vartuple)\n",
    " \n",
    "printinfo( 70, 60, 50 )"
   ]
  },
  {
   "cell_type": "code",
   "execution_count": 30,
   "metadata": {},
   "outputs": [
    {
     "name": "stdout",
     "output_type": "stream",
     "text": [
      "1\n",
      "{'a': 2, 'b': 3}\n"
     ]
    }
   ],
   "source": [
    "def printinfo( arg1, **vardict ):\n",
    "    print(arg1)\n",
    "    print(vardict)\n",
    " \n",
    "printinfo(1, a=2,b=3)"
   ]
  },
  {
   "cell_type": "markdown",
   "metadata": {},
   "source": [
    "使用 `lambda` 来创建匿名函数。\n",
    "所谓匿名，意即不再使用 `def` 语句这样标准的形式定义一个函数。\n",
    "lambda 只是一个表达式，函数体比 def 简单很多。\n",
    "lambda的主体是一个表达式，而不是一个代码块。仅仅能在lambda表达式中封装有限的逻辑进去。\n",
    "lambda 函数拥有自己的命名空间，且不能访问自己参数列表之外或全局命名空间里的参数。\n",
    "虽然lambda函数看起来只能写一行，却不等同于C或C++的内联函数，后者的目的是调用小函数时不占用栈内存从而增加运行效率。"
   ]
  },
  {
   "cell_type": "code",
   "execution_count": null,
   "metadata": {},
   "outputs": [],
   "source": [
    "# 可写函数说明\n",
    "sum = lambda arg1, arg2: arg1 + arg2\n",
    " \n",
    "# 调用sum函数\n",
    "print(sum( 10, 20 )) # 30\n",
    "print(sum( 20, 20 )) # 40"
   ]
  },
  {
   "cell_type": "markdown",
   "metadata": {},
   "source": [
    "# 类"
   ]
  },
  {
   "cell_type": "markdown",
   "metadata": {},
   "source": [
    "# 列表推导式"
   ]
  },
  {
   "cell_type": "code",
   "execution_count": 36,
   "metadata": {},
   "outputs": [
    {
     "data": {
      "text/plain": [
       "[(1, 1), (3, 3)]"
      ]
     },
     "execution_count": 36,
     "metadata": {},
     "output_type": "execute_result"
    }
   ],
   "source": [
    "# 列表推导式 把某种操作应用于序列或可迭代对象的每个元素上，然后使用其结果来创建列表，或者通过满足某些特定条件元素来创建子序列。\n",
    "\n",
    "[(x, y) for x in [1,2,3] for y in [3,1,4] if x == y]\n",
    "\n",
    "# 等价于\n",
    "# combs = []\n",
    "# for x in [1,2,3]:\n",
    "#     for y in [3,1,4]:\n",
    "#         if x == y:\n",
    "#             combs.append((x, y))\n",
    "# combs"
   ]
  },
  {
   "cell_type": "code",
   "execution_count": 48,
   "metadata": {},
   "outputs": [
    {
     "name": "stdout",
     "output_type": "stream",
     "text": [
      "[6, 12, 18]\n",
      "[[2, 4], [4, 16], [6, 36]]\n",
      "[12, 18]\n",
      "[]\n"
     ]
    }
   ],
   "source": [
    "vec = [2, 4, 6]\n",
    "\n",
    "# 我们将列表中每个数值乘三，获得一个新的列表：\n",
    "print([3*x for x in vec])\n",
    "\n",
    "print([[x, x**2] for x in vec])\n",
    "\n",
    "# 我们可以用 if 子句作为过滤器：\n",
    "print([3*x for x in vec if x > 3])\n",
    "\n",
    "print([3*x for x in vec if x < 2])"
   ]
  },
  {
   "cell_type": "code",
   "execution_count": 49,
   "metadata": {},
   "outputs": [
    {
     "name": "stdout",
     "output_type": "stream",
     "text": [
      "[8, 6, -18, 16, 12, -36, 24, 18, -54]\n",
      "[6, 5, -7, 8, 7, -5, 10, 9, -3]\n",
      "[8, 12, -54]\n"
     ]
    }
   ],
   "source": [
    "vec1 = [2, 4, 6]\n",
    "vec2 = [4, 3, -9]\n",
    "print([x*y for x in vec1 for y in vec2])\n",
    "print([x+y for x in vec1 for y in vec2])\n",
    "print([vec1[i]*vec2[i] for i in range(len(vec1))])"
   ]
  },
  {
   "cell_type": "markdown",
   "metadata": {},
   "source": [
    "# 迭代器(Iterators)"
   ]
  },
  {
   "cell_type": "markdown",
   "metadata": {},
   "source": [
    "# 生成器（generator）"
   ]
  },
  {
   "cell_type": "markdown",
   "metadata": {},
   "source": [
    "# 异常处理"
   ]
  }
 ],
 "metadata": {
  "kernelspec": {
   "display_name": "Python 3",
   "language": "python",
   "name": "python3"
  },
  "language_info": {
   "codemirror_mode": {
    "name": "ipython",
    "version": 3
   },
   "file_extension": ".py",
   "mimetype": "text/x-python",
   "name": "python",
   "nbconvert_exporter": "python",
   "pygments_lexer": "ipython3",
   "version": "3.7.3"
  }
 },
 "nbformat": 4,
 "nbformat_minor": 2
}
